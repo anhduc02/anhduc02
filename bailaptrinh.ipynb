{
  "nbformat": 4,
  "nbformat_minor": 0,
  "metadata": {
    "colab": {
      "name": "bailaptrinh",
      "provenance": [],
      "authorship_tag": "ABX9TyOJMysBIGwTrn9miofO7KFj",
      "include_colab_link": true
    },
    "kernelspec": {
      "name": "python3",
      "display_name": "Python 3"
    }
  },
  "cells": [
    {
      "cell_type": "markdown",
      "metadata": {
        "id": "view-in-github",
        "colab_type": "text"
      },
      "source": [
        "<a href=\"https://colab.research.google.com/github/anhduc02/anhduc02/blob/main/bailaptrinh.ipynb\" target=\"_parent\"><img src=\"https://colab.research.google.com/assets/colab-badge.svg\" alt=\"Open In Colab\"/></a>"
      ]
    },
    {
      "cell_type": "code",
      "metadata": {
        "id": "lfuVV5sxYKjR"
      },
      "source": [
        "a = int(input(\"a = \"))\r\n",
        "b = int(input(\"b = \"))\r\n",
        "print('a+b= ', a + b )\r\n",
        "print('a.b= ', a * b )\r\n",
        "print('a-b= ', a - b )\r\n",
        "print('a:b dư =',a%b)\r\n",
        "print('phần nguyên của a:b= ',a//b)"
      ],
      "execution_count": null,
      "outputs": []
    },
    {
      "cell_type": "code",
      "metadata": {
        "id": "aiByvRACYmtx"
      },
      "source": [
        "a=float((input(\"a= \")))\r\n",
        "b=float((input(\"b= \")))\r\n",
        "print(\"a+b= \",a+b)\r\n",
        "print(\"a.b= \",a*b)\r\n",
        "print(\"a-b= \",a-b)\r\n",
        "print(\"a/b= \",a/b)"
      ],
      "execution_count": null,
      "outputs": []
    },
    {
      "cell_type": "code",
      "metadata": {
        "id": "zwkxpMaTYswI"
      },
      "source": [
        "import math\r\n",
        "x= float(input(\"x= \"))\r\n",
        "print(\"|x|= \",abs(x))\r\n",
        "print(\"phần nguyên của số x= \",math.trunc(x))\r\n",
        "print(\"chuyển đổi thành số thực\",float(x))\r\n",
        "y=float(input(\"y= \"))\r\n",
        "print('x^y= ',x**y)\r\n",
        "if x>0:\r\n",
        "   print('căn bậc hai của x= ',math.sqrt(x))\r\n",
        "else :\r\n",
        "  print(\"không có căn bậc hai\")"
      ],
      "execution_count": null,
      "outputs": []
    },
    {
      "cell_type": "code",
      "metadata": {
        "id": "MV4hAKxYYzKf"
      },
      "source": [
        "x=float(input(\"x= \"))\r\n",
        "y=float(input(\"y= \"))\r\n",
        "print(\"x>=y: \",x>=y)\r\n",
        "print(\"x<=y:\",x<=y)\r\n",
        "print(\"x#y:\",x!=y) \r\n",
        "print(\"x>y:\",x>y)\r\n",
        "print(\"x<y:\",x<y)"
      ],
      "execution_count": null,
      "outputs": []
    },
    {
      "cell_type": "code",
      "metadata": {
        "id": "fOG84shPY0-Q"
      },
      "source": [
        "a= input(\"nhập chuỗi a từ bàn phím: \")\r\n",
        "print(\"chuỗi in hoa:\",str.upper(a))\r\n",
        "print(\"chuỗi in thường:\",str.lower(a))"
      ],
      "execution_count": null,
      "outputs": []
    },
    {
      "cell_type": "code",
      "metadata": {
        "colab": {
          "base_uri": "https://localhost:8080/"
        },
        "id": "LCUsriPFY7jX",
        "outputId": "1359e8cd-7cdd-4f66-b806-47dbdb39c038"
      },
      "source": [
        "print(\"\"\" NGUYEN\r\n",
        "      ANH\r\n",
        "       Duc\"\"\")"
      ],
      "execution_count": 1,
      "outputs": [
        {
          "output_type": "stream",
          "text": [
            " NGUYEN\n",
            "      ANH\n",
            "       Duc\n"
          ],
          "name": "stdout"
        }
      ]
    }
  ]
}