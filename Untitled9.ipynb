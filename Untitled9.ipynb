{
  "nbformat": 4,
  "nbformat_minor": 0,
  "metadata": {
    "colab": {
      "name": "Untitled9.ipynb",
      "provenance": [],
      "authorship_tag": "ABX9TyOnV6zzQGMXnXFLkVULSxRE",
      "include_colab_link": true
    },
    "kernelspec": {
      "name": "python3",
      "display_name": "Python 3"
    }
  },
  "cells": [
    {
      "cell_type": "markdown",
      "metadata": {
        "id": "view-in-github",
        "colab_type": "text"
      },
      "source": [
        "<a href=\"https://colab.research.google.com/github/anhduc02/anhduc02/blob/main/Untitled9.ipynb\" target=\"_parent\"><img src=\"https://colab.research.google.com/assets/colab-badge.svg\" alt=\"Open In Colab\"/></a>"
      ]
    },
    {
      "cell_type": "code",
      "metadata": {
        "colab": {
          "base_uri": "https://localhost:8080/"
        },
        "id": "FCuDhxwa2FyR",
        "outputId": "7554b013-2d5d-489a-f8c1-5af9fd68c4d0"
      },
      "source": [
        "# -*- coding: utf-8 -*-\n",
        "\"\"\"\n",
        "Created on Fri Nov 20 10:38:14 2020\n",
        "@author: ADMIN\n",
        "\"\"\"\n",
        "\n",
        "import numpy as np\n",
        "n = int(input(\"nhập vào số phần tử của list= \"))\n",
        "rd = np.random.random_sample(size=n)*100\n",
        "print(\"list= \", rd)\n",
        "max = rd[1]\n",
        "for a in rd:\n",
        "    if a > max:\n",
        "        max=a\n",
        "        print(\"gia tri lon nhat cua list= \",max)\n",
        "        \n"
      ],
      "execution_count": 5,
      "outputs": [
        {
          "output_type": "stream",
          "text": [
            "nhập vào số phần tử của list= 10\n",
            "list=  [99.74137539  1.88068118 18.61466938  2.87909482 83.33147903 37.39840347\n",
            " 84.601916   42.80813115 26.62464624 77.39134539]\n",
            "gia tri lon nhat cua list=  99.74137538641227\n"
          ],
          "name": "stdout"
        }
      ]
    }
  ]
}