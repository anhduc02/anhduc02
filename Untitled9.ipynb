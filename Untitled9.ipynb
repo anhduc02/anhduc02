{
  "nbformat": 4,
  "nbformat_minor": 0,
  "metadata": {
    "colab": {
      "name": "Untitled9.ipynb",
      "provenance": [],
      "authorship_tag": "ABX9TyMJ1tWVq0Zy//zDybiZXCxj",
      "include_colab_link": true
    },
    "kernelspec": {
      "name": "python3",
      "display_name": "Python 3"
    }
  },
  "cells": [
    {
      "cell_type": "markdown",
      "metadata": {
        "id": "view-in-github",
        "colab_type": "text"
      },
      "source": [
        "<a href=\"https://colab.research.google.com/github/anhduc02/anhduc02/blob/main/Untitled9.ipynb\" target=\"_parent\"><img src=\"https://colab.research.google.com/assets/colab-badge.svg\" alt=\"Open In Colab\"/></a>"
      ]
    },
    {
      "cell_type": "code",
      "metadata": {
        "id": "bmdGxJDw1NJY",
        "outputId": "7fd8b481-75a5-4a5e-cc55-152b70fcec22",
        "colab": {
          "base_uri": "https://localhost:8080/"
        }
      },
      "source": [
        "#1.tạo 1 số nguyên ngẫu nhiên n trong khoảng [50,1000] đóng vai trò là số phần tử của list\n",
        "import random\n",
        "n=random.randint(50, 1000)\n",
        "print([n])\n",
        "\n",
        "#2.Sinh ngẫu nhiên 1 List các số nguyên trong khoảng [-1000, 1000]\n",
        "import random\n",
        "randomlist = []\n",
        "n=int(input(\" nhập vào số phần tử của list: \"))\n",
        "for a in range (n):\n",
        "    b = random.randint(-1000,1000)\n",
        "    randomlist.append(b)\n",
        "print(randomlist)\n",
        "\n",
        "#3.Sinh ngẫu nhiên 1 List các số thực tỏng khoảng [-1000.0, 1000.0]\n",
        "import numpy as np\n",
        "n = int(input(\"nhap vao so phan tu cua list= \"))\n",
        "rd = np.random.random_sample(size=n)*-1000.0+1000.0\n",
        "print(\"list= \",rd)"
      ],
      "execution_count": 3,
      "outputs": [
        {
          "output_type": "stream",
          "text": [
            "[948]\n",
            " nhập vào số phần tử của list: 10\n",
            "[-990, 492, 943, -804, 960, -994, 411, -199, 247, -364]\n",
            "nhap vao so phan tu cua list= 10\n",
            "list=  [488.71349591  40.0268586  409.70262173 468.70635851 863.60692334\n",
            " 308.59598241 399.42664955 818.51167266 824.72709087  56.99472538]\n"
          ],
          "name": "stdout"
        }
      ]
    }
  ]
}