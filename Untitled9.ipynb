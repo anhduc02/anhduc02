{
  "nbformat": 4,
  "nbformat_minor": 0,
  "metadata": {
    "colab": {
      "name": "Untitled9.ipynb",
      "provenance": [],
      "authorship_tag": "ABX9TyPYVJmMl3UcXS5qTL1LpQTX",
      "include_colab_link": true
    },
    "kernelspec": {
      "name": "python3",
      "display_name": "Python 3"
    }
  },
  "cells": [
    {
      "cell_type": "markdown",
      "metadata": {
        "id": "view-in-github",
        "colab_type": "text"
      },
      "source": [
        "<a href=\"https://colab.research.google.com/github/anhduc02/anhduc02/blob/main/Untitled9.ipynb\" target=\"_parent\"><img src=\"https://colab.research.google.com/assets/colab-badge.svg\" alt=\"Open In Colab\"/></a>"
      ]
    },
    {
      "cell_type": "code",
      "metadata": {
        "colab": {
          "base_uri": "https://localhost:8080/"
        },
        "id": "-sxTPq8b1oU-",
        "outputId": "0bedbeb9-4443-4605-f64e-d8ce7e4c8064"
      },
      "source": [
        "# -*- coding: utf-8 -*-\n",
        "\"\"\"\n",
        "Created on Fri Nov 20 23:38:58 2020\n",
        "@author: tanta\n",
        "\"\"\"\n",
        "\n",
        "import numpy as np\n",
        "n = int(input(\"nhap vao so phan tu cua list= \"))\n",
        "rd = np.random.random_sample(size=n)*10000-10000\n",
        "print(\"list= \",rd)\n",
        "min = rd[1]\n",
        "for b in rd:\n",
        "    if b < min:\n",
        "        min = b\n",
        "        print(\"gia tri nho nhat cua list= \",min)\n",
        "        "
      ],
      "execution_count": 4,
      "outputs": [
        {
          "output_type": "stream",
          "text": [
            "nhap vao so phan tu cua list= 10\n",
            "list=  [-9411.93176869 -5335.44066582 -4215.89156811 -4216.46739334\n",
            " -2135.51681459 -6690.58403546 -6897.59808591 -5048.29746251\n",
            " -3946.16066924 -2085.51696598]\n",
            "gia tri nho nhat cua list=  -9411.931768692684\n"
          ],
          "name": "stdout"
        }
      ]
    }
  ]
}