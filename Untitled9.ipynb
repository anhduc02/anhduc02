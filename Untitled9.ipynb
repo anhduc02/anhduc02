{
  "nbformat": 4,
  "nbformat_minor": 0,
  "metadata": {
    "colab": {
      "name": "Untitled9.ipynb",
      "provenance": [],
      "authorship_tag": "ABX9TyPGm1FhaFYWM4+BNbj6mYfU",
      "include_colab_link": true
    },
    "kernelspec": {
      "name": "python3",
      "display_name": "Python 3"
    }
  },
  "cells": [
    {
      "cell_type": "markdown",
      "metadata": {
        "id": "view-in-github",
        "colab_type": "text"
      },
      "source": [
        "<a href=\"https://colab.research.google.com/github/anhduc02/anhduc02/blob/main/Untitled9.ipynb\" target=\"_parent\"><img src=\"https://colab.research.google.com/assets/colab-badge.svg\" alt=\"Open In Colab\"/></a>"
      ]
    },
    {
      "cell_type": "code",
      "metadata": {
        "colab": {
          "base_uri": "https://localhost:8080/"
        },
        "id": "lQ6SuiYP0fve",
        "outputId": "d99374f7-439b-4203-a61c-db62cf8b83be"
      },
      "source": [
        "import random,string\n",
        "x=random.randint(2, 10)\n",
        "letters = string.ascii_lowercase \n",
        "n = ''.join(random.choice(letters) for i in range(x))\n",
        "m=random.randint(0, 100)\n",
        "proboy={'name': n,'age': m }\n",
        "print(\"dictionary= \",proboy)"
      ],
      "execution_count": 1,
      "outputs": [
        {
          "output_type": "stream",
          "text": [
            "dictionary=  {'name': 'yhplqlzu', 'age': 29}\n"
          ],
          "name": "stdout"
        }
      ]
    }
  ]
}