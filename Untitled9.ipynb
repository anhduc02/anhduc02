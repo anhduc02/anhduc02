{
  "nbformat": 4,
  "nbformat_minor": 0,
  "metadata": {
    "colab": {
      "name": "Untitled9.ipynb",
      "provenance": [],
      "authorship_tag": "ABX9TyO4RYJeFRAZIvzKx1l9OrVu",
      "include_colab_link": true
    },
    "kernelspec": {
      "name": "python3",
      "display_name": "Python 3"
    }
  },
  "cells": [
    {
      "cell_type": "markdown",
      "metadata": {
        "id": "view-in-github",
        "colab_type": "text"
      },
      "source": [
        "<a href=\"https://colab.research.google.com/github/anhduc02/anhduc02/blob/main/Untitled9.ipynb\" target=\"_parent\"><img src=\"https://colab.research.google.com/assets/colab-badge.svg\" alt=\"Open In Colab\"/></a>"
      ]
    },
    {
      "cell_type": "code",
      "metadata": {
        "colab": {
          "base_uri": "https://localhost:8080/"
        },
        "id": "xy7bEo7Z2fN_",
        "outputId": "1a4d391e-2766-4c37-ee5d-067ed5b6c87c"
      },
      "source": [
        "# -*- coding: utf-8 -*-\n",
        "\"\"\"\n",
        "Created on Thu Nov 19 23:33:03 2020\n",
        "@author: ADMIN\n",
        "\"\"\"\n",
        "n=int(input(\"nhập vào số lần lặp giải phương trình bậc nhất= \"))\n",
        "a=int(input(\"a= \"))\n",
        "b=int(input(\"b= \"))\n",
        "x=-b/a\n",
        "counter=1\n",
        "print(\"x= \",str(x))\n",
        "A=(\"có dạng: ax+b=0\")\n",
        "while counter <= n:\n",
        "    counter=counter+1\n",
        "    print(\"a= \",a)\n",
        "    print(\"b= \",b)\n",
        "    print(\"x= \",x)\n",
        "    print(\"chương trình lặp giải phương trình bậc nhất n lần\", A)"
      ],
      "execution_count": 6,
      "outputs": [
        {
          "output_type": "stream",
          "text": [
            "nhập vào số lần lặp giải phương trình bậc nhất= 10\n",
            "a= 10\n",
            "b= 10\n",
            "x=  -1.0\n",
            "a=  10\n",
            "b=  10\n",
            "x=  -1.0\n",
            "chương trình lặp giải phương trình bậc nhất n lần có dạng: ax+b=0\n",
            "a=  10\n",
            "b=  10\n",
            "x=  -1.0\n",
            "chương trình lặp giải phương trình bậc nhất n lần có dạng: ax+b=0\n",
            "a=  10\n",
            "b=  10\n",
            "x=  -1.0\n",
            "chương trình lặp giải phương trình bậc nhất n lần có dạng: ax+b=0\n",
            "a=  10\n",
            "b=  10\n",
            "x=  -1.0\n",
            "chương trình lặp giải phương trình bậc nhất n lần có dạng: ax+b=0\n",
            "a=  10\n",
            "b=  10\n",
            "x=  -1.0\n",
            "chương trình lặp giải phương trình bậc nhất n lần có dạng: ax+b=0\n",
            "a=  10\n",
            "b=  10\n",
            "x=  -1.0\n",
            "chương trình lặp giải phương trình bậc nhất n lần có dạng: ax+b=0\n",
            "a=  10\n",
            "b=  10\n",
            "x=  -1.0\n",
            "chương trình lặp giải phương trình bậc nhất n lần có dạng: ax+b=0\n",
            "a=  10\n",
            "b=  10\n",
            "x=  -1.0\n",
            "chương trình lặp giải phương trình bậc nhất n lần có dạng: ax+b=0\n",
            "a=  10\n",
            "b=  10\n",
            "x=  -1.0\n",
            "chương trình lặp giải phương trình bậc nhất n lần có dạng: ax+b=0\n",
            "a=  10\n",
            "b=  10\n",
            "x=  -1.0\n",
            "chương trình lặp giải phương trình bậc nhất n lần có dạng: ax+b=0\n"
          ],
          "name": "stdout"
        }
      ]
    }
  ]
}