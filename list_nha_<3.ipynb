{
  "nbformat": 4,
  "nbformat_minor": 0,
  "metadata": {
    "colab": {
      "name": "list nha <3",
      "provenance": [],
      "authorship_tag": "ABX9TyOuLq7H1XP4mJFKTRUio+ow",
      "include_colab_link": true
    },
    "kernelspec": {
      "name": "python3",
      "display_name": "Python 3"
    }
  },
  "cells": [
    {
      "cell_type": "markdown",
      "metadata": {
        "id": "view-in-github",
        "colab_type": "text"
      },
      "source": [
        "<a href=\"https://colab.research.google.com/github/anhduc02/anhduc02/blob/main/list_nha_%3C3.ipynb\" target=\"_parent\"><img src=\"https://colab.research.google.com/assets/colab-badge.svg\" alt=\"Open In Colab\"/></a>"
      ]
    },
    {
      "cell_type": "code",
      "metadata": {
        "colab": {
          "base_uri": "https://localhost:8080/"
        },
        "id": "NRqEnj82HskE",
        "outputId": "3e088bce-9bdb-425c-f54e-a3be85abc480"
      },
      "source": [
        "x=[]\n",
        "x.append(18)\n",
        "x.append(\"huế\")\n",
        "y=[12,45,-1,-0.56,\"abc\"]\n",
        "x.extend(y)\n",
        "print('x =',x)\n",
        "print('giá trị của phần tử đầu tiên của x:',x[0] ,'và phần tử cuối cùng của x: ',x[-1])\n",
        "print('giá trị của phần tử đầu tiên đến phần tử thứ 5 của x: ',x[0:5])\n",
        "print('giá trị của phần từ thứ 3 đến cuối cùng của x :',x[3:])"
      ],
      "execution_count": null,
      "outputs": [
        {
          "output_type": "stream",
          "text": [
            "x = [18, 'huế', 12, 45, -1, -0.56, 'abc']\n",
            "giá trị của phần tử đầu tiên của x: 18 và phần tử cuối cùng của x:  abc\n",
            "giá trị của phần tử đầu tiên đến phần tử thứ 5 của x:  [18, 'huế', 12, 45, -1]\n",
            "giá trị của phần từ thứ 3 đến cuối cùng của x : [45, -1, -0.56, 'abc']\n"
          ],
          "name": "stdout"
        }
      ]
    }
  ]
}