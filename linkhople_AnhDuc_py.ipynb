{
  "nbformat": 4,
  "nbformat_minor": 0,
  "metadata": {
    "colab": {
      "name": "linkhople_AnhDuc.py",
      "provenance": [],
      "authorship_tag": "ABX9TyMR84Pshf0ZJK3sMzyVr+jm",
      "include_colab_link": true
    },
    "kernelspec": {
      "name": "python3",
      "display_name": "Python 3"
    }
  },
  "cells": [
    {
      "cell_type": "markdown",
      "metadata": {
        "id": "view-in-github",
        "colab_type": "text"
      },
      "source": [
        "<a href=\"https://colab.research.google.com/github/anhduc02/anhduc02/blob/main/linkhople_AnhDuc_py.ipynb\" target=\"_parent\"><img src=\"https://colab.research.google.com/assets/colab-badge.svg\" alt=\"Open In Colab\"/></a>"
      ]
    },
    {
      "cell_type": "code",
      "metadata": {
        "colab": {
          "base_uri": "https://localhost:8080/"
        },
        "id": "JF1ax4vA1zEc",
        "outputId": "771e7217-3a0a-4deb-d8e4-02bf7c121251"
      },
      "source": [
        "import re\r\n",
        "import requests\r\n",
        "from bs4 import BeautifulSoup\r\n",
        "\r\n",
        "\r\n",
        "\r\n",
        "link = requests.get('https://vietnamnet.vn/')\r\n",
        "link_soup = BeautifulSoup(link.text,'html.parser')\r\n",
        "results = link_soup('a', attrs={'href':True})\r\n",
        "\r\n",
        "url_naduc = set()\r\n",
        "for i in results:\r\n",
        "    a = i['href']\r\n",
        "    anhduc_1 = '^(http).*(html|epi)$'\r\n",
        "    anhduc_2 = '^/.*(html|epi)$'\r\n",
        "    if re.match(anhduc_1, a):\r\n",
        "        url_naduc.add(a)\r\n",
        "    else:\r\n",
        "        if re.match(anhduc_2, a):\r\n",
        "            url_ng_aduc = 'https://vietnamnet.vn' + a\r\n",
        "            url_naduc.add(url_ng_aduc)\r\n",
        "list(url_naduc)[0:20]"
      ],
      "execution_count": 6,
      "outputs": [
        {
          "output_type": "execute_result",
          "data": {
            "text/plain": [
              "['https://vietnamnet.vn/vn/thi-truong-tieu-dung/diem-danh-10-mon-do-tang-bo-me-y-nghia-nhan-dip-tet-nguyen-dan-707534.html',\n",
              " 'https://ictnews.vietnamnet.vn/cuoc-song-so/giac-mo-cong-nghe-va-tham-vong-cua-nguoi-giau-nhat-an-do-275625.html',\n",
              " 'https://vietnamnet.vn/vn/tuanvietnam/tieudiem/canh-bao-ve-nan-tham-nhung-quyen-luc-su-quan-cat-cu-706381.html',\n",
              " 'https://vietnamnet.vn/vn/su-kien/le-nham-chuc-tong-thong-my-2021-705245.html',\n",
              " 'https://vietnamnet.vn/vn/kinh-doanh/thi-truong/gia-bia-nuoc-ngot-tang-703816.html',\n",
              " 'https://id.vietnamnet.vn/Home.html',\n",
              " 'https://vietnamnet.vn/vn/thoi-su/chinh-tri/co-cau-thanh-phan-dai-bieu-du-dai-hoi-xiii-707666.html',\n",
              " 'https://vietnamnet.vn/vn/giao-duc/co-ga-i-vie-t-tha-o-6-thu-tie-ng-la-sinh-vie-n-na-m-ba-khi-mo-i-18-tuo-i-707341.html',\n",
              " 'https://vietnamnet.vn/vn/thoi-su/media/cam-duong-phuc-vu-dai-hoi-dang-nguoi-dan-ra-vao-ha-noi-di-duong-nao-706765.html',\n",
              " 'https://vietnamnet.vn/vn/su-kien/bau-cu-tong-thong-my-2020-672524.html',\n",
              " 'https://vietnamnet.vn/vn/su-kien/diego-maradona-qua-doi-692831.html',\n",
              " 'https://vietnamnet.vn/vn/cong-nghe/ung-dung/trien-khai-ban-do-chung-song-an-toan-voi-covid-cho-cac-phuong-tien-van-tai-hanh-khach-707115.html',\n",
              " 'https://vietnamnet.vn/vn/bat-dong-san/du-an/tp-hcm-se-cong-khai-cac-du-an-the-chap-ngan-hang-giam-so-hong-cua-cu-dan-707786.html',\n",
              " 'https://vietnamnet.vn/vn/bat-dong-san/kinh-nghiem-tu-van/dat-nhung-do-vat-nay-trong-nha-de-an-nen-lam-ra-707748.html',\n",
              " 'https://2sao.vn/xon-xao-anh-hoa-minzy-mac-ao-dai-do-chuan-bi-lam-le-gia-tien-n-249710.html',\n",
              " 'https://vietnamnet.vn/vn/the-gioi/dan-mang-thich-thu-canh-ong-biden-be-chau-noi-o-nha-trang-707356.html',\n",
              " 'https://vietnamnet.vn/vn/thoi-su/media/ong-nguyen-thien-nhan-thu-duc-thanh-pho-cua-tri-tue-nhan-tao-dang-song-nhat-viet-nam-706311.html',\n",
              " 'https://vietnamnet.vn/vn/thoi-su/an-toan-giao-thong/ha-noi-cam-nhieu-tuyen-duong-phuc-vu-dai-hoi-xiii-cua-dang-705947.html',\n",
              " 'https://vietnamnet.vn/vn/hop-tac/cong-nghiep-ho-tro/chinh-sach-va-thi-truong/hieu-truong-truong-cd-co-dien-hn-chung-toi-moi-doanh-nghiep-vao-cung-dao-tao-700945.html',\n",
              " 'https://vietnamnet.vn/vn/kinh-doanh/thi-truong/dao-that-thon-nam-dieu-hoa-cho-dan-ha-thanh-ruoc-ve-don-tet-707808.html']"
            ]
          },
          "metadata": {
            "tags": []
          },
          "execution_count": 6
        }
      ]
    }
  ]
}