{
  "nbformat": 4,
  "nbformat_minor": 0,
  "metadata": {
    "colab": {
      "name": "Untitled12.ipynb",
      "provenance": [],
      "authorship_tag": "ABX9TyPPfuHNtIoe24aLcX77XHDq",
      "include_colab_link": true
    },
    "kernelspec": {
      "name": "python3",
      "display_name": "Python 3"
    }
  },
  "cells": [
    {
      "cell_type": "markdown",
      "metadata": {
        "id": "view-in-github",
        "colab_type": "text"
      },
      "source": [
        "<a href=\"https://colab.research.google.com/github/anhduc02/anhduc02/blob/main/Untitled12.ipynb\" target=\"_parent\"><img src=\"https://colab.research.google.com/assets/colab-badge.svg\" alt=\"Open In Colab\"/></a>"
      ]
    },
    {
      "cell_type": "code",
      "metadata": {
        "id": "m4Gc9cuLS6bl"
      },
      "source": [
        "Có thể chuyển câu lệnh lặp không xác định bằng vòng lặp While sang vòng lặp For\r\n",
        "Sử dụng lệnh break để ngắt vòng lặp for khi điều kiện thỏa mãn."
      ],
      "execution_count": null,
      "outputs": []
    }
  ]
}