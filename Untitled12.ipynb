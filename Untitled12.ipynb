{
  "nbformat": 4,
  "nbformat_minor": 0,
  "metadata": {
    "colab": {
      "name": "Untitled12.ipynb",
      "provenance": [],
      "authorship_tag": "ABX9TyOuiRhd9KAUMbUli8gGdNRI",
      "include_colab_link": true
    },
    "kernelspec": {
      "name": "python3",
      "display_name": "Python 3"
    }
  },
  "cells": [
    {
      "cell_type": "markdown",
      "metadata": {
        "id": "view-in-github",
        "colab_type": "text"
      },
      "source": [
        "<a href=\"https://colab.research.google.com/github/anhduc02/anhduc02/blob/main/Untitled12.ipynb\" target=\"_parent\"><img src=\"https://colab.research.google.com/assets/colab-badge.svg\" alt=\"Open In Colab\"/></a>"
      ]
    },
    {
      "cell_type": "code",
      "metadata": {
        "colab": {
          "base_uri": "https://localhost:8080/"
        },
        "id": "neRp-QhQweYA",
        "outputId": "c9d70dfc-b26f-4457-e327-bb25bfd20e9f"
      },
      "source": [
        "import numpy as np \r\n",
        "import random\r\n",
        "aa= np.random.randint(1,5,(3,3))\r\n",
        "print(\"ma tran=\", aa)\r\n",
        "print(\"dinh thuc=\", np.linalg.det(aa))\r\n"
      ],
      "execution_count": 9,
      "outputs": [
        {
          "output_type": "stream",
          "text": [
            "ma tran= [[1 2 1]\n",
            " [2 4 2]\n",
            " [2 3 4]]\n",
            "dinh thuc= 0.0\n"
          ],
          "name": "stdout"
        }
      ]
    },
    {
      "cell_type": "code",
      "metadata": {
        "colab": {
          "base_uri": "https://localhost:8080/"
        },
        "id": "A3BevVcdzjmG",
        "outputId": "ff2b9744-53c3-4337-d1d7-996e0c9f3a3e"
      },
      "source": [
        "import numpy as np\r\n",
        "import random\r\n",
        "n= int(input(\"nhap ma tran cap =\"))\r\n",
        "\r\n",
        "rd= np.random.randint(1,9,(3,3))\r\n",
        "b = np.linalg.det(rd)\r\n",
        "while b == 0 :\r\n",
        "  rd= np.random.randint(1,9,(3,3))\r\n",
        "  b = np.linalg.det(rd)\r\n",
        "print(rd, ' la ma tran co dinh thuc khac 0')"
      ],
      "execution_count": 15,
      "outputs": [
        {
          "output_type": "stream",
          "text": [
            "nhap ma tran cap =2\n",
            "[[6 3 5]\n",
            " [2 3 5]\n",
            " [2 7 8]]  la ma tran co dinh thuc khac 0\n"
          ],
          "name": "stdout"
        }
      ]
    },
    {
      "cell_type": "code",
      "metadata": {
        "id": "OUQ1vKI02VLx"
      },
      "source": [
        ""
      ],
      "execution_count": null,
      "outputs": []
    }
  ]
}