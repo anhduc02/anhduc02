{
  "nbformat": 4,
  "nbformat_minor": 0,
  "metadata": {
    "colab": {
      "name": "series.ipynb",
      "provenance": [],
      "authorship_tag": "ABX9TyMLydGt37GLvZDSbmbOJzDV",
      "include_colab_link": true
    },
    "kernelspec": {
      "name": "python3",
      "display_name": "Python 3"
    }
  },
  "cells": [
    {
      "cell_type": "markdown",
      "metadata": {
        "id": "view-in-github",
        "colab_type": "text"
      },
      "source": [
        "<a href=\"https://colab.research.google.com/github/anhduc02/anhduc02/blob/main/series.ipynb\" target=\"_parent\"><img src=\"https://colab.research.google.com/assets/colab-badge.svg\" alt=\"Open In Colab\"/></a>"
      ]
    },
    {
      "cell_type": "code",
      "metadata": {
        "id": "XJKu0mial2PP"
      },
      "source": [
        "import numpy as np\r\n",
        "import pandas as pd"
      ],
      "execution_count": null,
      "outputs": []
    },
    {
      "cell_type": "markdown",
      "metadata": {
        "id": "4qu8DjHol9v8"
      },
      "source": [
        "Câu 1: Hãy tạo 1 đối tượng kiểu Series có tối thiểu 10 phần tử (kiểu số) với giá trị tùy ý thích của bạn. In giá trị của Series đó ra màn hình"
      ]
    },
    {
      "cell_type": "code",
      "metadata": {
        "colab": {
          "base_uri": "https://localhost:8080/"
        },
        "id": "ALKBBb50l7oy",
        "outputId": "d14ae409-88b1-4043-acfe-e1ca86a68511"
      },
      "source": [
        "S = pd.Series(np.random.randint(100,size = 10))\r\n",
        "S"
      ],
      "execution_count": null,
      "outputs": [
        {
          "output_type": "execute_result",
          "data": {
            "text/plain": [
              "0    82\n",
              "1    38\n",
              "2    28\n",
              "3    83\n",
              "4    28\n",
              "5    80\n",
              "6    95\n",
              "7    42\n",
              "8    80\n",
              "9    28\n",
              "dtype: int64"
            ]
          },
          "metadata": {
            "tags": []
          },
          "execution_count": 2
        }
      ]
    },
    {
      "cell_type": "markdown",
      "metadata": {
        "id": "SKjuhghamERC"
      },
      "source": [
        "Câu 2: Hãy tạo 1 đối tượng kiểu Series với giá trị khởi tạo hình thành từ dữ liệu kiểu Dictionary. In kết quả ra màn hình"
      ]
    },
    {
      "cell_type": "code",
      "metadata": {
        "colab": {
          "base_uri": "https://localhost:8080/"
        },
        "id": "jnowFpQwmA_q",
        "outputId": "e1e40700-0423-4c38-9391-5be8a01edb2b"
      },
      "source": [
        "  dict_1 = {'tên':'anh duc ', 'tuổi': 19, 'công việc': 'sinh viên', 'lương': '9999999 USD', 'đi xe': 'Audi'}\r\n",
        "D = pd.Series(dict_1)\r\n",
        "D"
      ],
      "execution_count": null,
      "outputs": [
        {
          "output_type": "execute_result",
          "data": {
            "text/plain": [
              "tên             anh duc \n",
              "tuổi                  19\n",
              "công việc      sinh viên\n",
              "lương        9999999 USD\n",
              "đi xe               Audi\n",
              "dtype: object"
            ]
          },
          "metadata": {
            "tags": []
          },
          "execution_count": 4
        }
      ]
    },
    {
      "cell_type": "markdown",
      "metadata": {
        "id": "ldoI2d77mRO6"
      },
      "source": [
        "Câu 3: Sử dụng series ở câu 1, hãy thay đổi giá trị của cột index từ kiểu số theo kiểu ký tự với giá trị do bạn tự xác định."
      ]
    },
    {
      "cell_type": "code",
      "metadata": {
        "colab": {
          "base_uri": "https://localhost:8080/"
        },
        "id": "0RZWVmuOmSx6",
        "outputId": "10ff2bd9-c25d-467e-e197-41d66e88cc63"
      },
      "source": [
        "S_id = []\r\n",
        "z=1\r\n",
        "for i in S.index:\r\n",
        "    S_id.append(f'giá trị thứ {z}')\r\n",
        "    z+=1\r\n",
        "S_2 = pd.Series(S.values, index=S_id)\r\n",
        "S_2"
      ],
      "execution_count": null,
      "outputs": [
        {
          "output_type": "execute_result",
          "data": {
            "text/plain": [
              "giá trị thứ 1     82\n",
              "giá trị thứ 2     38\n",
              "giá trị thứ 3     28\n",
              "giá trị thứ 4     83\n",
              "giá trị thứ 5     28\n",
              "giá trị thứ 6     80\n",
              "giá trị thứ 7     95\n",
              "giá trị thứ 8     42\n",
              "giá trị thứ 9     80\n",
              "giá trị thứ 10    28\n",
              "dtype: int64"
            ]
          },
          "metadata": {
            "tags": []
          },
          "execution_count": 6
        }
      ]
    },
    {
      "cell_type": "markdown",
      "metadata": {
        "id": "HpdksGeEmVWD"
      },
      "source": [
        "  Câu 4: Sử dụng series ở câu 2, hãy truy cập đến phần tử thứ 5 và in ra màn hình"
      ]
    },
    {
      "cell_type": "code",
      "metadata": {
        "colab": {
          "base_uri": "https://localhost:8080/"
        },
        "id": "FEOD7ZO7mXCa",
        "outputId": "f1395986-6fcc-4148-a7de-cf5d1482971f"
      },
      "source": [
        "print(D[4])"
      ],
      "execution_count": null,
      "outputs": [
        {
          "output_type": "stream",
          "text": [
            "Audi\n"
          ],
          "name": "stdout"
        }
      ]
    },
    {
      "cell_type": "markdown",
      "metadata": {
        "id": "zcLSyfsnmayK"
      },
      "source": [
        "Câu 5: Sử dụng series ở câu 3, hãy truy cập đến 1 phần tử dựa theo chỉ số kiểu ký tự do bạn lựa chọn và in ra màn hình"
      ]
    },
    {
      "cell_type": "code",
      "metadata": {
        "colab": {
          "base_uri": "https://localhost:8080/"
        },
        "id": "m8PhZeknmeP7",
        "outputId": "d7722a89-8de9-4020-91f5-99cb2262f0d4"
      },
      "source": [
        "print(S_2['giá trị thứ 1'])"
      ],
      "execution_count": null,
      "outputs": [
        {
          "output_type": "stream",
          "text": [
            "82\n"
          ],
          "name": "stdout"
        }
      ]
    },
    {
      "cell_type": "markdown",
      "metadata": {
        "id": "3lGUKf43mhCL"
      },
      "source": [
        "Câu 6: Sử dụng series ở câu 3, hãy tìm ra tính chất đặc thù trong các chỉ số kiểu kí tự, thực hiện vòng lặp for duyệt trên các chỉ mục kiểu kí tự này để lọc ra những phần tử thỏa mãn điều kiện và in ra màn hình"
      ]
    },
    {
      "cell_type": "code",
      "metadata": {
        "colab": {
          "base_uri": "https://localhost:8080/"
        },
        "id": "XX_NIx9Omiqi",
        "outputId": "9d38c1cf-b27e-473d-b716-ab8e8537f6ad"
      },
      "source": [
        "S_2[[(name.endswith('1') or name.endswith('0'))for name in S_2.index]]"
      ],
      "execution_count": null,
      "outputs": [
        {
          "output_type": "execute_result",
          "data": {
            "text/plain": [
              "giá trị thứ 1     82\n",
              "giá trị thứ 10    28\n",
              "dtype: int64"
            ]
          },
          "metadata": {
            "tags": []
          },
          "execution_count": 8
        }
      ]
    },
    {
      "cell_type": "markdown",
      "metadata": {
        "id": "WDrtDRckmmvi"
      },
      "source": [
        "Câu 7: Sử dụng series ở câu 1, hãy đổi tên cột index thành 'STT' và đặt tên cho series là 'Gia_tri'. In kết quả ra màn hình"
      ]
    },
    {
      "cell_type": "code",
      "metadata": {
        "colab": {
          "base_uri": "https://localhost:8080/"
        },
        "id": "ejsLlrbZmopT",
        "outputId": "e80603d9-ffbf-4eec-b045-5dff77aa7aa6"
      },
      "source": [
        "S.index.name = 'STT'\r\n",
        "S.name = 'Gia_tri'\r\n",
        "S"
      ],
      "execution_count": null,
      "outputs": [
        {
          "output_type": "execute_result",
          "data": {
            "text/plain": [
              "STT\n",
              "0    82\n",
              "1    38\n",
              "2    28\n",
              "3    83\n",
              "4    28\n",
              "5    80\n",
              "6    95\n",
              "7    42\n",
              "8    80\n",
              "9    28\n",
              "Name: Gia_tri, dtype: int64"
            ]
          },
          "metadata": {
            "tags": []
          },
          "execution_count": 9
        }
      ]
    },
    {
      "cell_type": "markdown",
      "metadata": {
        "id": "j5E3I7BamtMC"
      },
      "source": [
        "Câu 8: Hãy áp dụng hàm logarith của gói numpy với series ở câu 1 và in kết quả ra màn hình"
      ]
    },
    {
      "cell_type": "code",
      "metadata": {
        "id": "bRfo7A1kmtu6",
        "colab": {
          "base_uri": "https://localhost:8080/"
        },
        "outputId": "cb0ae02b-1e1f-4739-b78d-9b0c198511e5"
      },
      "source": [
        "S_log = pd.Series([np.log(gt) for gt in S.values])\r\n",
        "S_log.name = 'logarith'\r\n",
        "S_log"
      ],
      "execution_count": null,
      "outputs": [
        {
          "output_type": "execute_result",
          "data": {
            "text/plain": [
              "0    4.406719\n",
              "1    3.637586\n",
              "2    3.332205\n",
              "3    4.418841\n",
              "4    3.332205\n",
              "5    4.382027\n",
              "6    4.553877\n",
              "7    3.737670\n",
              "8    4.382027\n",
              "9    3.332205\n",
              "Name: logarith, dtype: float64"
            ]
          },
          "metadata": {
            "tags": []
          },
          "execution_count": 10
        }
      ]
    },
    {
      "cell_type": "markdown",
      "metadata": {
        "id": "w4XAOYOImvD6"
      },
      "source": [
        "Câu 9: Lọc các giá trị của series 1 > 15 và in ra màn hình"
      ]
    },
    {
      "cell_type": "code",
      "metadata": {
        "id": "opyi2dPvmxjy",
        "colab": {
          "base_uri": "https://localhost:8080/"
        },
        "outputId": "315b555d-4efb-4487-afbf-4f706ddaab56"
      },
      "source": [
        "S[S>15]"
      ],
      "execution_count": null,
      "outputs": [
        {
          "output_type": "execute_result",
          "data": {
            "text/plain": [
              "STT\n",
              "0    82\n",
              "1    38\n",
              "2    28\n",
              "3    83\n",
              "4    28\n",
              "5    80\n",
              "6    95\n",
              "7    42\n",
              "8    80\n",
              "9    28\n",
              "Name: Gia_tri, dtype: int64"
            ]
          },
          "metadata": {
            "tags": []
          },
          "execution_count": 11
        }
      ]
    }
  ]
}