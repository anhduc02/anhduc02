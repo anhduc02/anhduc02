{
  "nbformat": 4,
  "nbformat_minor": 0,
  "metadata": {
    "colab": {
      "name": "Untitled7.ipynb",
      "provenance": [],
      "authorship_tag": "ABX9TyO2dq+7MpPc1z3bcRetDbLm",
      "include_colab_link": true
    },
    "kernelspec": {
      "name": "python3",
      "display_name": "Python 3"
    }
  },
  "cells": [
    {
      "cell_type": "markdown",
      "metadata": {
        "id": "view-in-github",
        "colab_type": "text"
      },
      "source": [
        "<a href=\"https://colab.research.google.com/github/anhduc02/anhduc02/blob/main/Untitled7.ipynb\" target=\"_parent\"><img src=\"https://colab.research.google.com/assets/colab-badge.svg\" alt=\"Open In Colab\"/></a>"
      ]
    },
    {
      "cell_type": "code",
      "metadata": {
        "id": "c4EyEhdJTZVU",
        "outputId": "8cd7ed54-a22d-4ac8-8b43-c21ecbe63d7e",
        "colab": {
          "base_uri": "https://localhost:8080/",
          "height": 128
        }
      },
      "source": [
        "a = [ 0 , 1 , 2 , 3,5 , 4 , 5 , 6 ]\n",
        "n = 1\n",
        "nhập  toán\n",
        "cho  b  trong  a :\n",
        "    print ( \"thứ tử phần giá trị\" , n , \"=\" , b )\n",
        "    n + = 1\n",
        "    nếu  b > 0 :\n",
        "        print ( \"logarit tự nhiên phần tử\" , n , \"=\" , math . log ( b ))\n",
        "    khác :\n",
        "        print ( \"Không có thứ n phần tử logarit\" )"
      ],
      "execution_count": 6,
      "outputs": [
        {
          "output_type": "error",
          "ename": "SyntaxError",
          "evalue": "ignored",
          "traceback": [
            "\u001b[0;36m  File \u001b[0;32m\"<ipython-input-6-ed40cf4e780d>\"\u001b[0;36m, line \u001b[0;32m3\u001b[0m\n\u001b[0;31m    nhập  toán\u001b[0m\n\u001b[0m             ^\u001b[0m\n\u001b[0;31mSyntaxError\u001b[0m\u001b[0;31m:\u001b[0m invalid syntax\n"
          ]
        }
      ]
    }
  ]
}