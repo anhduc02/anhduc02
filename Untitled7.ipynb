{
  "nbformat": 4,
  "nbformat_minor": 0,
  "metadata": {
    "colab": {
      "name": "Untitled7.ipynb",
      "provenance": [],
      "authorship_tag": "ABX9TyN0cTB202zJxR8PSnpyRfqc",
      "include_colab_link": true
    },
    "kernelspec": {
      "name": "python3",
      "display_name": "Python 3"
    }
  },
  "cells": [
    {
      "cell_type": "markdown",
      "metadata": {
        "id": "view-in-github",
        "colab_type": "text"
      },
      "source": [
        "<a href=\"https://colab.research.google.com/github/anhduc02/anhduc02/blob/main/Untitled7.ipynb\" target=\"_parent\"><img src=\"https://colab.research.google.com/assets/colab-badge.svg\" alt=\"Open In Colab\"/></a>"
      ]
    },
    {
      "cell_type": "code",
      "metadata": {
        "colab": {
          "base_uri": "https://localhost:8080/",
          "height": 128
        },
        "id": "awEhB_9GST5W",
        "outputId": "88cc1f84-028e-414c-9818-95fecdd91ce6"
      },
      "source": [
        "# - * - mã hóa: utf-8 - * -\n",
        "\"\" \"\n",
        "Tạo vào Thứ Năm 1 tháng 12 23:33:03 2020\n",
        "@author: ADMIN\n",
        "\"\" \"\n",
        "n = int ( input ( \"enter into the number of repeat of the best processors =\" ))\n",
        "a = int ( input ( \"a =\" ))\n",
        "b = int ( input ( \"b =\" ))\n",
        "x = - b / a\n",
        "bộ đếm = 1\n",
        "print ( \"x =\" , str ( x ))\n",
        "A = ( \"có dạng: ax + b = 0\" )\n",
        "trong khi bộ  đếm  <=  n :\n",
        "    counter = counter + 1\n",
        "    print ( \"a =\" , a )\n",
        "    print ( \"b =\" , b )\n",
        "    print ( \"x =\" , x )\n",
        "    print ( \"chương trình lặp lại bậc nhất n lần\" , A )\n",
        "    \n"
      ],
      "execution_count": 5,
      "outputs": [
        {
          "output_type": "error",
          "ename": "SyntaxError",
          "evalue": "ignored",
          "traceback": [
            "\u001b[0;36m  File \u001b[0;32m\"<ipython-input-5-9bac465eb51a>\"\u001b[0;36m, line \u001b[0;32m2\u001b[0m\n\u001b[0;31m    \"\" \"\u001b[0m\n\u001b[0m        ^\u001b[0m\n\u001b[0;31mSyntaxError\u001b[0m\u001b[0;31m:\u001b[0m EOL while scanning string literal\n"
          ]
        }
      ]
    }
  ]
}