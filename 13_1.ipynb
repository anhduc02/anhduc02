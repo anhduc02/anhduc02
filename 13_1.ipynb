{
  "nbformat": 4,
  "nbformat_minor": 0,
  "metadata": {
    "colab": {
      "name": "13.1",
      "provenance": [],
      "authorship_tag": "ABX9TyND0BP6GQvppi99bhoBA3Uc",
      "include_colab_link": true
    },
    "kernelspec": {
      "name": "python3",
      "display_name": "Python 3"
    }
  },
  "cells": [
    {
      "cell_type": "markdown",
      "metadata": {
        "id": "view-in-github",
        "colab_type": "text"
      },
      "source": [
        "<a href=\"https://colab.research.google.com/github/anhduc02/anhduc02/blob/main/13_1.ipynb\" target=\"_parent\"><img src=\"https://colab.research.google.com/assets/colab-badge.svg\" alt=\"Open In Colab\"/></a>"
      ]
    },
    {
      "cell_type": "markdown",
      "metadata": {
        "id": "BuET_Rt_pH2-"
      },
      "source": [
        "13.1.1"
      ]
    },
    {
      "cell_type": "code",
      "metadata": {
        "id": "-S8g7n0SpDqG"
      },
      "source": [
        "Thư viện thao tác với tập tin và thư mục: import os\r\n",
        "Các hàm cơ bản:\r\n",
        "Hàm listdir() : liệt kê tất cả các tệp, thư mục của đường dẫn được truyền vào.\r\n",
        "Hàm mkdir(): tạo 1 thư mục mới.\r\n",
        "Hàm getcwd(): trả về thư mục làm việc hiện tại của 1 tiến trình.\r\n",
        "Hàm walk(): duyệt qua hệ thống tệp.\r\n",
        "Hàm chdir(): thay đổi thư mục làm việc hiện tại.\r\n",
        "Hàm rmdir(): xóa thư mục hiện tại."
      ],
      "execution_count": null,
      "outputs": []
    },
    {
      "cell_type": "markdown",
      "metadata": {
        "id": "o0kVB2C_pVps"
      },
      "source": [
        "13.1.2"
      ]
    },
    {
      "cell_type": "code",
      "metadata": {
        "id": "OV_OHzHapWn8"
      },
      "source": [
        "import os\r\n",
        "list1=[]\r\n",
        "list2=[]\r\n",
        "for (x,y,z) in os.walk('C:\\\\'):\r\n",
        "\tprint(x) \r\n",
        "\tprint(y) \r\n",
        "\tprint(z)                                                    "
      ],
      "execution_count": 3,
      "outputs": []
    },
    {
      "cell_type": "markdown",
      "metadata": {
        "id": "VyzJfRntpW8t"
      },
      "source": [
        "13.1.3"
      ]
    },
    {
      "cell_type": "code",
      "metadata": {
        "id": "EkbUGX6QpX7U"
      },
      "source": [
        "import os\r\n",
        "print(\"tất cả các tệp và thư mục trong ổ C:\")\r\n",
        "path = 'C:\\\\Users\\\\MyPC\\\\Documents'\r\n",
        "print(os.listdir(path))\r\n",
        "print(\"\")\r\n",
        "\r\n",
        "print(\"các thư mục:\")\r\n",
        "list1 = next(os.walk(path))[1]\r\n",
        "print(list1)\r\n",
        "print(\"\")\r\n",
        "\r\n",
        "print(\"các tệp:\")\r\n",
        "list2 = next(os.walk(path))[2]\r\n",
        "print(list2)"
      ],
      "execution_count": null,
      "outputs": []
    }
  ]
}