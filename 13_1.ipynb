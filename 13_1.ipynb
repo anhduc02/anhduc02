{
  "nbformat": 4,
  "nbformat_minor": 0,
  "metadata": {
    "colab": {
      "name": "13.1",
      "provenance": [],
      "authorship_tag": "ABX9TyMypshT4uS7jG+Qp6u7eahg",
      "include_colab_link": true
    },
    "kernelspec": {
      "name": "python3",
      "display_name": "Python 3"
    }
  },
  "cells": [
    {
      "cell_type": "markdown",
      "metadata": {
        "id": "view-in-github",
        "colab_type": "text"
      },
      "source": [
        "<a href=\"https://colab.research.google.com/github/anhduc02/anhduc02/blob/main/13_1.ipynb\" target=\"_parent\"><img src=\"https://colab.research.google.com/assets/colab-badge.svg\" alt=\"Open In Colab\"/></a>"
      ]
    },
    {
      "cell_type": "code",
      "metadata": {
        "id": "ehFOp96LSEF_"
      },
      "source": [
        "import os\r\n",
        "for (root,dist,files) in os.walk('C:\\\\', topdown=True):\r\n",
        "    print(root)\r\n",
        "    print(dist)\r\n",
        "    print(files)"
      ],
      "execution_count": 2,
      "outputs": []
    },
    {
      "cell_type": "code",
      "metadata": {
        "id": "jyCY35QjSIxF"
      },
      "source": [
        "import os\r\n",
        "for (root,dirs,files) in os.walk('C:\\\\', topdown = False):\r\n",
        "    print(\"list 1 = \",files)\r\n",
        "    print(\"list 2= \" ,[[root],[dirs]])"
      ],
      "execution_count": null,
      "outputs": []
    }
  ]
}