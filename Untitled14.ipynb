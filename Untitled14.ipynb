{
  "nbformat": 4,
  "nbformat_minor": 0,
  "metadata": {
    "colab": {
      "name": "Untitled14.ipynb",
      "provenance": [],
      "authorship_tag": "ABX9TyNSHzkvQwuCqo4u7w0I1xWa",
      "include_colab_link": true
    },
    "kernelspec": {
      "name": "python3",
      "display_name": "Python 3"
    }
  },
  "cells": [
    {
      "cell_type": "markdown",
      "metadata": {
        "id": "view-in-github",
        "colab_type": "text"
      },
      "source": [
        "<a href=\"https://colab.research.google.com/github/anhduc02/anhduc02/blob/main/Untitled14.ipynb\" target=\"_parent\"><img src=\"https://colab.research.google.com/assets/colab-badge.svg\" alt=\"Open In Colab\"/></a>"
      ]
    },
    {
      "cell_type": "code",
      "metadata": {
        "id": "5ZbpHEUwUopv"
      },
      "source": [
        "\r\n",
        "for <variable-name> in range(...):\r\n",
        "      statement\r\n",
        "      statement\r\n",
        "ví dụ:\r\n",
        "#1 in ra các giá trị biến đếm tương ứng trong range:\r\n",
        "for i in range (12):\r\n",
        "     print (i)\r\n",
        "      #kết quả thu được:\r\n",
        "0  1  2  3  4  5  6  7  8  9 10 11  \r\n",
        "\r\n",
        "#2 in ra các giá trị biến đếm tương ứng trong range, nhưng với bước nhảy là 2:\r\n",
        "for i in range (0,12,2):\r\n",
        "     print (i)\r\n",
        "       #kết quả thu được:\r\n",
        "0  2  4  6  8 10\r\n",
        "\r\n"
      ],
      "execution_count": null,
      "outputs": []
    }
  ]
}