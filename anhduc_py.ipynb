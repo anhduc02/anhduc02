{
  "nbformat": 4,
  "nbformat_minor": 0,
  "metadata": {
    "colab": {
      "name": "anhduc.py",
      "provenance": [],
      "authorship_tag": "ABX9TyNvcqHRe83I1MMUR0mJW9+n",
      "include_colab_link": true
    },
    "kernelspec": {
      "name": "python3",
      "display_name": "Python 3"
    }
  },
  "cells": [
    {
      "cell_type": "markdown",
      "metadata": {
        "id": "view-in-github",
        "colab_type": "text"
      },
      "source": [
        "<a href=\"https://colab.research.google.com/github/anhduc02/anhduc02/blob/main/anhduc_py.ipynb\" target=\"_parent\"><img src=\"https://colab.research.google.com/assets/colab-badge.svg\" alt=\"Open In Colab\"/></a>"
      ]
    },
    {
      "cell_type": "code",
      "metadata": {
        "colab": {
          "base_uri": "https://localhost:8080/"
        },
        "id": "FmEuVAshnXo9",
        "outputId": "5166f963-9255-4404-a6ae-2de1163a2680"
      },
      "source": [
        "import numpy as np \r\n",
        "from PIL import Image, ImageOps\r\n",
        "from matplotlib import pyplot as plt\r\n",
        "np.set_printoptions(suppress=True)\r\n",
        "a = np.random.randint(10,size=(3,4))\r\n",
        "print(a)"
      ],
      "execution_count": 8,
      "outputs": [
        {
          "output_type": "stream",
          "text": [
            "[[9 7 8 9]\n",
            " [3 3 5 7]\n",
            " [2 9 8 7]]\n"
          ],
          "name": "stdout"
        }
      ]
    },
    {
      "cell_type": "code",
      "metadata": {
        "colab": {
          "base_uri": "https://localhost:8080/"
        },
        "id": "vMEUG6FEpNha",
        "outputId": "e9c7eb3f-0df3-47c4-91ba-624178dd59fa"
      },
      "source": [
        "U, S, V = np.linalg.svd(a)\r\n",
        "print(U)\r\n",
        "print(\"-\"*100)\r\n",
        "print(S)\r\n",
        "print(\"-\"*100)\r\n",
        "print(V) "
      ],
      "execution_count": 15,
      "outputs": [
        {
          "output_type": "stream",
          "text": [
            "[[ 0.70512877  0.5903522   0.392782  ]\n",
            " [ 0.40256218  0.12271665 -0.90712971]\n",
            " [ 0.58372691 -0.79776243  0.15112243]]\n",
            "----------------------------------------------------------------------------------------------------\n",
            "[23.09535628  5.03101723  2.50866179]\n",
            "----------------------------------------------------------------------------------------------------\n",
            "[[ 0.37762134  0.49348146  0.53359889  0.57371631]\n",
            " [ 0.81212103 -0.53254569 -0.20785033  0.11684503]\n",
            " [ 0.44481632  0.55335745 -0.07351057 -0.70037859]\n",
            " [ 0.          0.40824829 -0.81649658  0.40824829]]\n"
          ],
          "name": "stdout"
        }
      ]
    },
    {
      "cell_type": "code",
      "metadata": {
        "colab": {
          "base_uri": "https://localhost:8080/"
        },
        "id": "iiUJM0nEqOUB",
        "outputId": "7f2405ba-84fb-4f64-dd89-2274b3794860"
      },
      "source": [
        "U_T = np.transpose(U)\r\n",
        "print(U_T)\r\n",
        "print(U.dot(U_T))"
      ],
      "execution_count": 16,
      "outputs": [
        {
          "output_type": "stream",
          "text": [
            "[[ 0.70512877  0.40256218  0.58372691]\n",
            " [ 0.5903522   0.12271665 -0.79776243]\n",
            " [ 0.392782   -0.90712971  0.15112243]]\n",
            "[[ 1.  0.  0.]\n",
            " [ 0.  1. -0.]\n",
            " [ 0. -0.  1.]]\n"
          ],
          "name": "stdout"
        }
      ]
    },
    {
      "cell_type": "code",
      "metadata": {
        "colab": {
          "base_uri": "https://localhost:8080/"
        },
        "id": "rxiWW5tRt-u5",
        "outputId": "cc1b6edb-d3c5-45ee-e97e-9954cf4b84e5"
      },
      "source": [
        "# Tạo ma trận đường chéo với các phân tử từ S:\r\n",
        "M = np.zeros((3,4))\r\n",
        "print(M)\r\n",
        "for i, x in enumerate(S):\r\n",
        " M[i, i] = x\r\n",
        "print(M) \r\n",
        "# Khôi phục lại ma trận A\r\n",
        "#B = U@Sigma@V\r\n",
        "#print(B)\r\n",
        "#print(A-B)\r\n"
      ],
      "execution_count": 24,
      "outputs": [
        {
          "output_type": "stream",
          "text": [
            "[[0. 0. 0. 0.]\n",
            " [0. 0. 0. 0.]\n",
            " [0. 0. 0. 0.]]\n",
            "[[23.09535628  0.          0.          0.        ]\n",
            " [ 0.          5.03101723  0.          0.        ]\n",
            " [ 0.          0.          2.50866179  0.        ]]\n"
          ],
          "name": "stdout"
        }
      ]
    },
    {
      "cell_type": "code",
      "metadata": {
        "colab": {
          "base_uri": "https://localhost:8080/"
        },
        "id": "hPANtgIqymdG",
        "outputId": "97f84daa-0b8a-450f-cd3d-81549ad5636c"
      },
      "source": [
        "rd = U.dot(Sigma.dot(V))\r\n",
        "print(rd)\r\n"
      ],
      "execution_count": 23,
      "outputs": [
        {
          "output_type": "stream",
          "text": [
            "[[9. 7. 8. 9.]\n",
            " [3. 3. 5. 7.]\n",
            " [2. 9. 8. 7.]]\n"
          ],
          "name": "stdout"
        }
      ]
    }
  ]
}