{
  "nbformat": 4,
  "nbformat_minor": 0,
  "metadata": {
    "colab": {
      "name": "anhduc.py",
      "provenance": [],
      "authorship_tag": "ABX9TyPBxj8i0UW4aLXCmYJaeq6K",
      "include_colab_link": true
    },
    "kernelspec": {
      "name": "python3",
      "display_name": "Python 3"
    }
  },
  "cells": [
    {
      "cell_type": "markdown",
      "metadata": {
        "id": "view-in-github",
        "colab_type": "text"
      },
      "source": [
        "<a href=\"https://colab.research.google.com/github/anhduc02/anhduc02/blob/main/anhduc_py.ipynb\" target=\"_parent\"><img src=\"https://colab.research.google.com/assets/colab-badge.svg\" alt=\"Open In Colab\"/></a>"
      ]
    },
    {
      "cell_type": "code",
      "metadata": {
        "colab": {
          "base_uri": "https://localhost:8080/"
        },
        "id": "uXcPqZPctU09",
        "outputId": "86249748-2e34-43ea-ee72-471eea019eec"
      },
      "source": [
        "import random\r\n",
        "import numpy as np\r\n",
        "from sympy import *\r\n",
        "\r\n",
        "\r\n",
        "\r\n",
        "def matran(x,y) :\r\n",
        "    rd = np.random.randint(0,20,(x,y))\r\n",
        "    return rd\r\n",
        "\r\n",
        "\r\n",
        "\r\n",
        "def rank_matran(rd) :\r\n",
        "    hang_ma_tran = np.linalg.matrix_rank(rd)\r\n",
        "    return hang_ma_tran\r\n",
        "\r\n",
        "\r\n",
        "\r\n",
        "\r\n",
        "def bacthang(rd) :\r\n",
        "    M = Matrix(rd)\r\n",
        "    M_rref = M.rref()\r\n",
        "    return np.array(M_rref[0])\r\n",
        "\r\n",
        "\r\n",
        "x = int(input('nhap so hang = '))\r\n",
        "y = int(input('nhap so cot = '))\r\n",
        "a = matran(x,y)\r\n",
        "print('ma tran ',a)\r\n",
        "b = rank_matran(a)\r\n",
        "print('rank = ',b)\r\n",
        "r = bacthang(a)\r\n",
        "print('ma tran bac thang ',r)"
      ],
      "execution_count": 4,
      "outputs": [
        {
          "output_type": "stream",
          "text": [
            "nhap so hang = 2\n",
            "nhap so cot = 3\n",
            "ma tran  [[15  2  5]\n",
            " [18  6 11]]\n",
            "rank =  2\n",
            "ma tran bac thang  [[1 0 4/27]\n",
            " [0 1 25/18]]\n"
          ],
          "name": "stdout"
        }
      ]
    }
  ]
}