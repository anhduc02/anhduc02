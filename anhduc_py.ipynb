{
  "nbformat": 4,
  "nbformat_minor": 0,
  "metadata": {
    "colab": {
      "name": "anhduc.py",
      "provenance": [],
      "authorship_tag": "ABX9TyP08PIf9oe/fd4/iJxYUh3f",
      "include_colab_link": true
    },
    "kernelspec": {
      "name": "python3",
      "display_name": "Python 3"
    }
  },
  "cells": [
    {
      "cell_type": "markdown",
      "metadata": {
        "id": "view-in-github",
        "colab_type": "text"
      },
      "source": [
        "<a href=\"https://colab.research.google.com/github/anhduc02/anhduc02/blob/main/anhduc_py.ipynb\" target=\"_parent\"><img src=\"https://colab.research.google.com/assets/colab-badge.svg\" alt=\"Open In Colab\"/></a>"
      ]
    },
    {
      "cell_type": "code",
      "metadata": {
        "colab": {
          "base_uri": "https://localhost:8080/"
        },
        "id": "KcdlcbLszOG8",
        "outputId": "ef3cb191-7e56-4ed3-b83f-f757abf36256"
      },
      "source": [
        "import numpy as np\r\n",
        "def  anhduc(n):\r\n",
        "     aa = np.random.randint(0,10,(n,n))\r\n",
        "     dinhthuc = np.linalg.det(aa)\r\n",
        "     rankA = np.linalg.matrix_rank(aa)\r\n",
        "     mu2 =aa**2\r\n",
        "     mu3 = aa**3\r\n",
        "     print('ma tran',aa)\r\n",
        "     print('dinh thuc',dinhthuc)\r\n",
        "     print('rank',rankA)\r\n",
        "     print('a^2',mu2)\r\n",
        "     print('a^3',mu3)\r\n",
        "     return aa , dinhthuc , rankA , mu2 , mu3\r\n",
        "n = int(input('ma tran cap '))\r\n",
        "anhduc(n)\r\n"
      ],
      "execution_count": 3,
      "outputs": [
        {
          "output_type": "stream",
          "text": [
            "ma tran cap 2\n",
            "ma tran [[1 6]\n",
            " [5 6]]\n",
            "dinh thuc -23.999999999999993\n",
            "rank 2\n",
            "a^2 [[ 1 36]\n",
            " [25 36]]\n",
            "a^3 [[  1 216]\n",
            " [125 216]]\n"
          ],
          "name": "stdout"
        },
        {
          "output_type": "execute_result",
          "data": {
            "text/plain": [
              "(array([[1, 6],\n",
              "        [5, 6]]), -23.999999999999993, 2, array([[ 1, 36],\n",
              "        [25, 36]]), array([[  1, 216],\n",
              "        [125, 216]]))"
            ]
          },
          "metadata": {
            "tags": []
          },
          "execution_count": 3
        }
      ]
    }
  ]
}