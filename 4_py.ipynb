{
  "nbformat": 4,
  "nbformat_minor": 0,
  "metadata": {
    "colab": {
      "name": "4.py",
      "provenance": [],
      "authorship_tag": "ABX9TyP+D3HAjx6p1Iyb32FuP4x7",
      "include_colab_link": true
    },
    "kernelspec": {
      "name": "python3",
      "display_name": "Python 3"
    }
  },
  "cells": [
    {
      "cell_type": "markdown",
      "metadata": {
        "id": "view-in-github",
        "colab_type": "text"
      },
      "source": [
        "<a href=\"https://colab.research.google.com/github/anhduc02/anhduc02/blob/main/4_py.ipynb\" target=\"_parent\"><img src=\"https://colab.research.google.com/assets/colab-badge.svg\" alt=\"Open In Colab\"/></a>"
      ]
    },
    {
      "cell_type": "code",
      "metadata": {
        "id": "Jg5cwzXcWhK_"
      },
      "source": [
        "While  : Bắt buộc phải Tăng biến điểm \r\n",
        "For :  Không cần tăng biến điếm lên"
      ],
      "execution_count": null,
      "outputs": []
    }
  ]
}