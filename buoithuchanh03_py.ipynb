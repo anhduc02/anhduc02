{
  "nbformat": 4,
  "nbformat_minor": 0,
  "metadata": {
    "colab": {
      "name": "buoithuchanh03.py",
      "provenance": [],
      "authorship_tag": "ABX9TyP/V54orkQUQsfyUb4Kybtd",
      "include_colab_link": true
    },
    "kernelspec": {
      "name": "python3",
      "display_name": "Python 3"
    }
  },
  "cells": [
    {
      "cell_type": "markdown",
      "metadata": {
        "id": "view-in-github",
        "colab_type": "text"
      },
      "source": [
        "<a href=\"https://colab.research.google.com/github/anhduc02/anhduc02/blob/main/buoithuchanh03_py.ipynb\" target=\"_parent\"><img src=\"https://colab.research.google.com/assets/colab-badge.svg\" alt=\"Open In Colab\"/></a>"
      ]
    },
    {
      "cell_type": "code",
      "metadata": {
        "colab": {
          "base_uri": "https://localhost:8080/",
          "height": 299
        },
        "id": "1wAjtiXtRVH3",
        "outputId": "f89bfd37-d60f-4012-f568-152a173f1e11"
      },
      "source": [
        "import matplotlib.pyplot as plt\r\n",
        "import numpy as np\r\n",
        "\r\n",
        "name_friend=[\"Trí\",\"Thịnh\",\"Huy\",\"Hoàng\",\"Nhật\",\"Minh\"]\r\n",
        "cash=[1,2,3,4,2,3]\r\n",
        "card=[3,4,2,1,4,1]\r\n",
        "\r\n",
        "list_name=np.arange(len(name_friend))\r\n",
        "\r\n",
        "plt.xticks(list_name,name_friend)\r\n",
        "plt.ylabel(\"(Tỷ Đồng)\")\r\n",
        "plt.title('Số Tiền hiện có')\r\n",
        "plt.bar(list_name-0.2,cash, width=0.4, label= 'Trong Ví')\r\n",
        "plt.bar(list_name+0.2,card, width=0.4, label= 'Trong thẻ')\r\n",
        "plt.legend()"
      ],
      "execution_count": 6,
      "outputs": [
        {
          "output_type": "execute_result",
          "data": {
            "text/plain": [
              "<matplotlib.legend.Legend at 0x7fc8e4b14128>"
            ]
          },
          "metadata": {
            "tags": []
          },
          "execution_count": 6
        },
        {
          "output_type": "display_data",
          "data": {
            "image/png": "[encoded data removed]",
            "text/plain": [
              "<Figure size 432x288 with 1 Axes>"
            ]
          },
          "metadata": {
            "tags": [],
            "needs_background": "light"
          }
        }
      ]
    }
  ]
}