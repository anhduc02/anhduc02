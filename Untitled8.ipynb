{
  "nbformat": 4,
  "nbformat_minor": 0,
  "metadata": {
    "colab": {
      "name": "Untitled8.ipynb",
      "provenance": [],
      "authorship_tag": "ABX9TyMVytlA0Cqpu9hAWwPEl3mG",
      "include_colab_link": true
    },
    "kernelspec": {
      "name": "python3",
      "display_name": "Python 3"
    }
  },
  "cells": [
    {
      "cell_type": "markdown",
      "metadata": {
        "id": "view-in-github",
        "colab_type": "text"
      },
      "source": [
        "<a href=\"https://colab.research.google.com/github/anhduc02/anhduc02/blob/main/Untitled8.ipynb\" target=\"_parent\"><img src=\"https://colab.research.google.com/assets/colab-badge.svg\" alt=\"Open In Colab\"/></a>"
      ]
    },
    {
      "cell_type": "code",
      "metadata": {
        "id": "tHtCYYBTVmY7"
      },
      "source": [
        "# - * - mã hóa: utf-8 - * -\n",
        "\"\" \"\n",
        "Được tạo vào Thứ Sáu, ngày 27 tháng 11 20:21:20 2020\n",
        "@author: anhduc\n",
        "\"\" \"\n",
        "\n",
        "# 1.tạo 1 số ngẫu nhiên nguyên trong khoảng [50,1000] đóng vai trò là phần tử của danh sách\n",
        "nhập  ngẫu nhiên\n",
        "n = ngẫu nhiên . randint ( 50 , 1000 )\n",
        "in ([ n ])\n",
        "\n",
        "# 2.Sinh ngẫu nhiên 1 Liệt kê các số nguyên trong khoảng [-1000, 1000]\n",
        "nhập  ngẫu nhiên\n",
        "danh sách ngẫu nhiên  = []\n",
        "n = int ( input ( \"enter to the number of list:\" ))\n",
        "cho  một  trong  phạm vi ( n ):\n",
        "    b  =  ngẫu nhiên . randint ( - 1000 , 1000 )\n",
        "    danh sách ngẫu nhiên . nối ( b )\n",
        "in ( danh sách ngẫu nhiên )\n",
        "\n",
        "# 3.Sinh Random 1 Liệt kê các số thực thi trong khoảng [-1000.0, 1000.0]\n",
        "nhập  numpy  dưới dạng  np\n",
        "n  =  int ( input ( \"nhap vao so phan tu cua list =\" ))\n",
        "rd  =  np . ngẫu nhiên . random_sample ( size = n ) * - 1000.0 + 1000.0\n",
        "print ( \"list =\" , rd )"
      ],
      "execution_count": null,
      "outputs": []
    }
  ]
}