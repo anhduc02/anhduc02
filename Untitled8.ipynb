{
  "nbformat": 4,
  "nbformat_minor": 0,
  "metadata": {
    "colab": {
      "name": "Untitled8.ipynb",
      "provenance": [],
      "authorship_tag": "ABX9TyPYVJmMl3UcXS5qTL1LpQTX",
      "include_colab_link": true
    },
    "kernelspec": {
      "name": "python3",
      "display_name": "Python 3"
    }
  },
  "cells": [
    {
      "cell_type": "markdown",
      "metadata": {
        "id": "view-in-github",
        "colab_type": "text"
      },
      "source": [
        "<a href=\"https://colab.research.google.com/github/anhduc02/anhduc02/blob/main/Untitled8.ipynb\" target=\"_parent\"><img src=\"https://colab.research.google.com/assets/colab-badge.svg\" alt=\"Open In Colab\"/></a>"
      ]
    },
    {
      "cell_type": "code",
      "metadata": {
        "id": "2LlMIR-4VH7c"
      },
      "source": [
        "# -*- coding: utf-8 -*-\n",
        "\"\"\"\n",
        "Created on Fri Nov 20 23:38:58 2020\n",
        "@author: tanta\n",
        "\"\"\"\n",
        "\n",
        "import numpy as np\n",
        "n = int(input(\"nhap vao so phan tu cua list= \"))\n",
        "rd = np.random.random_sample(size=n)*10000-10000\n",
        "print(\"list= \",rd)\n",
        "min = rd[1]\n",
        "for b in rd:\n",
        "    if b < min:\n",
        "        min = b\n",
        "        print(\"gia tri nho nhat cua list= \",min)\n",
        "        "
      ],
      "execution_count": null,
      "outputs": []
    }
  ]
}