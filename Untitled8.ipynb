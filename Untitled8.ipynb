{
  "nbformat": 4,
  "nbformat_minor": 0,
  "metadata": {
    "colab": {
      "name": "Untitled8.ipynb",
      "provenance": [],
      "authorship_tag": "ABX9TyPhpap8eF93sSEkqaEM4hRa",
      "include_colab_link": true
    },
    "kernelspec": {
      "name": "python3",
      "display_name": "Python 3"
    }
  },
  "cells": [
    {
      "cell_type": "markdown",
      "metadata": {
        "id": "view-in-github",
        "colab_type": "text"
      },
      "source": [
        "<a href=\"https://colab.research.google.com/github/anhduc02/anhduc02/blob/main/Untitled8.ipynb\" target=\"_parent\"><img src=\"https://colab.research.google.com/assets/colab-badge.svg\" alt=\"Open In Colab\"/></a>"
      ]
    },
    {
      "cell_type": "code",
      "metadata": {
        "colab": {
          "base_uri": "https://localhost:8080/",
          "height": 128
        },
        "id": "Lle5QOyGWN78",
        "outputId": "1b8be4af-31a2-4846-e37d-e498581f3825"
      },
      "source": [
        "# - * - mã hóa: utf-8 - * -\n",
        "\"\" \"\n",
        "Tạo vào Thứ Bảy, 28 Tháng 11 19:50:09 2020\n",
        "@author: tanta\n",
        "\"\" \"\n",
        "\n",
        "nhập  ngẫu nhiên , chuỗi\n",
        "x = ngẫu nhiên . randint ( 2 , 10 )\n",
        "chữ cái  =  chuỗi . ascii_lowercase \n",
        "n  =  '' . tham gia ( ngẫu nhiên . lựa chọn ( các chữ cái ) cho  tôi  trong  phạm vi ( x ))\n",
        "m = ngẫu nhiên . randint ( 0 , 100 )\n",
        "proboy = { 'name' : n , 'age' : m }\n",
        "print ( \"từ điển =\" , proboy )\n"
      ],
      "execution_count": 3,
      "outputs": [
        {
          "output_type": "error",
          "ename": "SyntaxError",
          "evalue": "ignored",
          "traceback": [
            "\u001b[0;36m  File \u001b[0;32m\"<ipython-input-3-9300c08309ac>\"\u001b[0;36m, line \u001b[0;32m2\u001b[0m\n\u001b[0;31m    \"\" \"\u001b[0m\n\u001b[0m        ^\u001b[0m\n\u001b[0;31mSyntaxError\u001b[0m\u001b[0;31m:\u001b[0m EOL while scanning string literal\n"
          ]
        }
      ]
    }
  ]
}