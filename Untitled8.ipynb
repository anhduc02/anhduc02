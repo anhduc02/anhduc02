{
  "nbformat": 4,
  "nbformat_minor": 0,
  "metadata": {
    "colab": {
      "name": "Untitled8.ipynb",
      "provenance": [],
      "authorship_tag": "ABX9TyMaYW/6QhzsV+vedq/c5DY4",
      "include_colab_link": true
    },
    "kernelspec": {
      "name": "python3",
      "display_name": "Python 3"
    }
  },
  "cells": [
    {
      "cell_type": "markdown",
      "metadata": {
        "id": "view-in-github",
        "colab_type": "text"
      },
      "source": [
        "<a href=\"https://colab.research.google.com/github/anhduc02/anhduc02/blob/main/Untitled8.ipynb\" target=\"_parent\"><img src=\"https://colab.research.google.com/assets/colab-badge.svg\" alt=\"Open In Colab\"/></a>"
      ]
    },
    {
      "cell_type": "code",
      "metadata": {
        "colab": {
          "base_uri": "https://localhost:8080/",
          "height": 128
        },
        "id": "NPPVZgf0Ub-K",
        "outputId": "7224c4ad-1140-4196-ad2f-badd4cb7bcc5"
      },
      "source": [
        "# - * - mã hóa: utf-8 - * -\n",
        "\"\" \"\n",
        "Được tạo vào Thứ sáu, 20 tháng 11 10:38:14 2020\n",
        "@author: ADMIN\n",
        "\"\" \"\n",
        "\n",
        "nhập  numpy  dưới dạng  np\n",
        "n  =  int ( input ( \"enter to the number of list =\" ))\n",
        "rd  =  np . ngẫu nhiên . random_sample ( size = n ) * 100\n",
        "print ( \"list =\" , rd )\n",
        "max  =  rd [ 1 ]\n",
        "cho  một  trong  rd :\n",
        "    nếu  a  >  max :\n",
        "        max = a\n",
        "        print ( \"gia tri lon nhat cua list =\" , max )\n",
        "        \n"
      ],
      "execution_count": 2,
      "outputs": [
        {
          "output_type": "error",
          "ename": "SyntaxError",
          "evalue": "ignored",
          "traceback": [
            "\u001b[0;36m  File \u001b[0;32m\"<ipython-input-2-1b6d27caf701>\"\u001b[0;36m, line \u001b[0;32m2\u001b[0m\n\u001b[0;31m    \"\" \"\u001b[0m\n\u001b[0m        ^\u001b[0m\n\u001b[0;31mSyntaxError\u001b[0m\u001b[0;31m:\u001b[0m EOL while scanning string literal\n"
          ]
        }
      ]
    }
  ]
}