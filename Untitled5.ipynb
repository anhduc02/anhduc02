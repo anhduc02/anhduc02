{
  "nbformat": 4,
  "nbformat_minor": 0,
  "metadata": {
    "colab": {
      "name": "Untitled5.ipynb",
      "provenance": [],
      "authorship_tag": "ABX9TyNohOsSLVpKqoEHfVsLgvpd",
      "include_colab_link": true
    },
    "kernelspec": {
      "name": "python3",
      "display_name": "Python 3"
    }
  },
  "cells": [
    {
      "cell_type": "markdown",
      "metadata": {
        "id": "view-in-github",
        "colab_type": "text"
      },
      "source": [
        "<a href=\"https://colab.research.google.com/github/anhduc02/anhduc02/blob/main/Untitled5.ipynb\" target=\"_parent\"><img src=\"https://colab.research.google.com/assets/colab-badge.svg\" alt=\"Open In Colab\"/></a>"
      ]
    },
    {
      "cell_type": "code",
      "metadata": {
        "colab": {
          "base_uri": "https://localhost:8080/"
        },
        "id": "KTW2TD4g80_x",
        "outputId": "03dd848f-43a1-4ed5-8625-b7d7e233ba38"
      },
      "source": [
        "#1.Tạo ngẫu nhiên số  phần tử của List  50 <= n <= 100\n",
        "import numpy as np\n",
        "import random\n",
        "n = random.randint(50,100)\n",
        "rd = np.random.random_sample(size=n)*10000-10000\n",
        "print(\"list1 = \",rd)\n",
        "\n",
        "\n",
        "#2. Tạo ngẫu nhiên List gồm n phần tử với cấu trúc sau: [{'name': ' sinh ngẫu nhiên', 'age': 'sinh ngẫu nhiên'}] có tất cả n dictionary như trên trong List.\n",
        "import random,string\n",
        "x = random.randint(2,50)\n",
        "z= list()\n",
        "for i in range (x):\n",
        "    y = random.randint(2,10)\n",
        "    t = random.choice(string.ascii_uppercase)\n",
        "    h = t+ ''.join(random.choice(string.ascii_lowercase) for i in range (y))\n",
        "    m = random.randint(0, 100)\n",
        "    k = [{'name':h, 'age':m}] \n",
        "    z.extend(k) \n",
        "print(\"list 2= \",z)"
      ],
      "execution_count": 6,
      "outputs": [
        {
          "output_type": "stream",
          "text": [
            "list1 =  [-8833.23369292 -3812.16032522  -516.449628   -6807.36764207\n",
            " -8111.11396077 -5296.99798999 -2768.3333269  -8937.09391134\n",
            " -4121.31976317 -8285.71211963 -4059.27955301 -9516.20600566\n",
            " -6262.46466471 -6034.43006602 -3313.63641033 -8054.8714414\n",
            " -8416.04596428 -7239.88857125 -6486.52329316 -4807.92622419\n",
            " -3037.28280337 -9003.1172137  -9924.03241037 -9727.65641414\n",
            " -6246.01470376 -7088.16040391 -6658.1719349  -4784.29213215\n",
            " -4148.10079973 -6753.53987226 -4843.30758059 -3066.85379786\n",
            " -8387.00944032 -7800.69538633 -1298.58503977 -9881.65146703\n",
            " -4685.54220592 -3558.15772151 -6277.13542993 -1238.18827371\n",
            " -9242.97950728  -999.96647005 -1921.20592827 -2494.98875573\n",
            " -3279.97877863 -9891.0923746  -9149.03065916 -7943.77472429\n",
            " -2982.63170891   -68.99898624 -9935.27563109 -2352.99470515\n",
            " -8114.46549423 -2408.86594068 -7418.04058882  -153.0210152\n",
            "  -839.14605988 -3194.51491916 -3068.99380442 -9614.00490127\n",
            " -4978.81737207 -2314.90189893 -4047.00550085  -582.24125837\n",
            " -1718.66058503 -6766.54368886 -4396.80529831 -1218.04013987\n",
            " -9096.35070453 -6240.91115226 -6683.38599029  -931.54691082\n",
            " -1967.75505358 -4923.40344176 -3516.386448    -665.88829404\n",
            " -4232.1203946 ]\n",
            "list 2=  [{'name': 'Xteteu', 'age': 97}, {'name': 'Qofhyqej', 'age': 82}, {'name': 'Bhtvassuktd', 'age': 41}, {'name': 'Slmmgsxbyav', 'age': 29}, {'name': 'Pglxpxndgg', 'age': 41}, {'name': 'Pbjbacy', 'age': 66}, {'name': 'Xyctm', 'age': 18}]\n"
          ],
          "name": "stdout"
        }
      ]
    }
  ]
}