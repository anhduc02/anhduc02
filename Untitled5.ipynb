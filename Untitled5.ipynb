{
  "nbformat": 4,
  "nbformat_minor": 0,
  "metadata": {
    "colab": {
      "name": "Untitled5.ipynb",
      "provenance": [],
      "authorship_tag": "ABX9TyNohOsSLVpKqoEHfVsLgvpd",
      "include_colab_link": true
    },
    "kernelspec": {
      "name": "python3",
      "display_name": "Python 3"
    }
  },
  "cells": [
    {
      "cell_type": "markdown",
      "metadata": {
        "id": "view-in-github",
        "colab_type": "text"
      },
      "source": [
        "<a href=\"https://colab.research.google.com/github/anhduc02/anhduc02/blob/main/Untitled5.ipynb\" target=\"_parent\"><img src=\"https://colab.research.google.com/assets/colab-badge.svg\" alt=\"Open In Colab\"/></a>"
      ]
    },
    {
      "cell_type": "code",
      "metadata": {
        "colab": {
          "base_uri": "https://localhost:8080/"
        },
        "id": "2-sIzEp09aFE",
        "outputId": "1e4fb9ce-1cf9-4671-8708-a39292c511ae"
      },
      "source": [
        "#1.Tạo ngẫu nhiên số  phần tử của List  50 <= n <= 100\n",
        "import numpy as np\n",
        "import random\n",
        "n = random.randint(50,100)\n",
        "rd = np.random.random_sample(size=n)*10000-10000\n",
        "print(\"list1 = \",rd)\n",
        "\n",
        "\n",
        "#2. Tạo ngẫu nhiên List gồm n phần tử với cấu trúc sau: [{'name': ' sinh ngẫu nhiên', 'age': 'sinh ngẫu nhiên'}] có tất cả n dictionary như trên trong List.\n",
        "import random,string\n",
        "x = random.randint(2,50)\n",
        "z= list()\n",
        "for i in range (x):\n",
        "    y = random.randint(2,10)\n",
        "    t = random.choice(string.ascii_uppercase)\n",
        "    h = t+ ''.join(random.choice(string.ascii_lowercase) for i in range (y))\n",
        "    m = random.randint(0, 100)\n",
        "    k = [{'name':h, 'age':m}] \n",
        "    z.extend(k) \n",
        "print(\"list 2= \",z)"
      ],
      "execution_count": 8,
      "outputs": [
        {
          "output_type": "stream",
          "text": [
            "list1 =  [-1680.21147049 -6998.65759781 -2223.87707817 -5665.00205452\n",
            " -4308.22214781 -9064.58885975  -981.48586429  -957.961136\n",
            " -9475.00901597 -9002.13373436 -1861.61282922 -7359.56463676\n",
            "  -713.74673837 -4660.00342514 -9149.62176992 -1782.68144086\n",
            " -7461.3624262   -678.38821926 -8405.44029528 -1147.95340116\n",
            " -6836.24717503 -3290.55033091 -3362.64441591  -207.12658586\n",
            " -9132.34309324  -568.1138112  -5272.26784883 -8563.67546584\n",
            " -6499.02483962 -1359.86187721 -9141.39558705 -9045.39947337\n",
            " -4000.63136613 -6551.17967035 -7270.17588755 -9787.86914529\n",
            " -8624.30955265 -1198.51443867 -1008.06813394 -2789.66314453\n",
            " -7737.97225597 -3868.0817557  -3190.89907515 -2483.89148225\n",
            " -4039.65965061 -3929.69065173 -8168.46408657 -1731.4165906\n",
            " -2809.95351146 -3169.70782422 -7491.35193403 -7101.09794848\n",
            " -5056.28971132 -8634.67830806 -4871.09222567 -5084.38063008\n",
            " -3572.86945178 -1755.76843841 -2787.85773111 -1800.99219316\n",
            "  -761.88425537 -4469.70952383 -2746.00936397 -5312.69886339\n",
            "  -740.70200744 -8209.07042657 -3744.39301295 -4526.6293652\n",
            " -2971.33211911 -7737.42718209 -5636.49477482 -7414.31449179\n",
            " -8319.63686465 -9901.44033903 -4401.35237426 -2408.93232664\n",
            " -2509.09293847]\n",
            "list 2=  [{'name': 'Krql', 'age': 48}, {'name': 'Mld', 'age': 0}, {'name': 'Hfagokjc', 'age': 80}, {'name': 'Msxnzibxput', 'age': 80}, {'name': 'Qsyyvmdc', 'age': 53}, {'name': 'Fmpy', 'age': 6}, {'name': 'Xenbxdinv', 'age': 42}, {'name': 'Cfcxnnps', 'age': 95}, {'name': 'Qeprlbxurus', 'age': 52}, {'name': 'Fpi', 'age': 19}, {'name': 'Czkdogukql', 'age': 1}, {'name': 'Hquqvf', 'age': 44}, {'name': 'Nsrbronq', 'age': 65}, {'name': 'Kfxf', 'age': 92}, {'name': 'Bikvcxloupm', 'age': 62}, {'name': 'Wfujwzlbc', 'age': 58}, {'name': 'Fbfozevjlag', 'age': 91}, {'name': 'Evffb', 'age': 71}, {'name': 'Ustzze', 'age': 100}, {'name': 'Kqymcvs', 'age': 65}, {'name': 'Kerockb', 'age': 99}, {'name': 'Ninfwtktj', 'age': 59}, {'name': 'Gwos', 'age': 94}, {'name': 'Fvymdzif', 'age': 10}, {'name': 'Dudlv', 'age': 100}, {'name': 'Bjobludql', 'age': 16}, {'name': 'Bwn', 'age': 11}, {'name': 'Prfqckdpz', 'age': 11}, {'name': 'Yosaagzou', 'age': 72}, {'name': 'Skgjx', 'age': 82}, {'name': 'Ztmkvfdfkp', 'age': 65}, {'name': 'Sbnnnk', 'age': 47}, {'name': 'Cbvbgnqtcjj', 'age': 34}, {'name': 'Larke', 'age': 45}, {'name': 'Oaawdyiq', 'age': 71}, {'name': 'Woakvnwuy', 'age': 81}, {'name': 'Vzydbnuyyfs', 'age': 20}]\n"
          ],
          "name": "stdout"
        }
      ]
    }
  ]
}