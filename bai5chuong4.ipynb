{
  "nbformat": 4,
  "nbformat_minor": 0,
  "metadata": {
    "colab": {
      "name": "bai5chuong4",
      "provenance": [],
      "authorship_tag": "ABX9TyOAwE9hv6WfUv5K53RAN717",
      "include_colab_link": true
    },
    "kernelspec": {
      "name": "python3",
      "display_name": "Python 3"
    }
  },
  "cells": [
    {
      "cell_type": "markdown",
      "metadata": {
        "id": "view-in-github",
        "colab_type": "text"
      },
      "source": [
        "<a href=\"https://colab.research.google.com/github/anhduc02/anhduc02/blob/main/bai5chuong4.ipynb\" target=\"_parent\"><img src=\"https://colab.research.google.com/assets/colab-badge.svg\" alt=\"Open In Colab\"/></a>"
      ]
    },
    {
      "cell_type": "code",
      "metadata": {
        "colab": {
          "base_uri": "https://localhost:8080/"
        },
        "id": "p0DqyOPBF-eR",
        "outputId": "e6b01e19-c486-4094-c240-7cf4c25762f2"
      },
      "source": [
        "a = [2,1,-5,2.65,125,6]\n",
        "n=1\n",
        "import math\n",
        "for b in a:\n",
        "    print(\"giá trị của phần tử thứ \",n,\"=\",b)\n",
        "    if b>0:\n",
        "        print('logarit tự nhiên của phần tử thứ ',n,'=',math.log(b))\n",
        "    else :\n",
        "        print(\"không có logarit tự nhiên của phần tử thứ \",n)\n",
        "    n+=1"
      ],
      "execution_count": 1,
      "outputs": [
        {
          "output_type": "stream",
          "text": [
            "giá trị của phần tử thứ  1 = 2\n",
            "logarit tự nhiên của phần tử thứ  1 = 0.6931471805599453\n",
            "giá trị của phần tử thứ  2 = 1\n",
            "logarit tự nhiên của phần tử thứ  2 = 0.0\n",
            "giá trị của phần tử thứ  3 = -5\n",
            "không có logarit tự nhiên của phần tử thứ  3\n",
            "giá trị của phần tử thứ  4 = 2.65\n",
            "logarit tự nhiên của phần tử thứ  4 = 0.9745596399981308\n",
            "giá trị của phần tử thứ  5 = 125\n",
            "logarit tự nhiên của phần tử thứ  5 = 4.8283137373023015\n",
            "giá trị của phần tử thứ  6 = 6\n",
            "logarit tự nhiên của phần tử thứ  6 = 1.791759469228055\n"
          ],
          "name": "stdout"
        }
      ]
    }
  ]
}